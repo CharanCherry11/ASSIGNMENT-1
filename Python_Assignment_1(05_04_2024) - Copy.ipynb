{
  "cells": [
    {
      "cell_type": "markdown",
      "metadata": {
        "id": "9_siXIRQje9m"
      },
      "source": [
        "1.Data Types: Name five different data types in Python and provide an example of each."
      ]
    },
    {
      "cell_type": "code",
      "execution_count": 18,
      "metadata": {},
      "outputs": [
        {
          "name": "stdout",
          "output_type": "stream",
          "text": [
            "Integer x: 10\n"
          ]
        }
      ],
      "source": [
        "# numeric data type\n",
        "# boolean data type\n",
        "# string data type\n",
        "# sequence data type\n",
        "# set data type\n",
        "\n",
        "# Integer\n",
        "x = 10\n",
        "print(\"Integer x:\", x)\n",
        "\n",
        "\n",
        "\n",
        " "
      ]
    },
    {
      "cell_type": "markdown",
      "metadata": {
        "id": "nQOdJHwHjkSP"
      },
      "source": [
        "2.Control Flow - Nested if: What is a nested if statement? Provide an example demonstrating nested if-else blocks."
      ]
    },
    {
      "cell_type": "code",
      "execution_count": 13,
      "metadata": {},
      "outputs": [
        {
          "name": "stdout",
          "output_type": "stream",
          "text": [
            "x is greater than 5\n",
            "y is greater than 15\n"
          ]
        }
      ],
      "source": [
        "#nested if statement is an if else statement with another if statement as the body \n",
        "x = 10\n",
        "y = 20\n",
        "\n",
        "if x > 5:\n",
        "    print(\"x is greater than 5\")\n",
        "    if y > 15:\n",
        "        print(\"y is greater than 15\")\n",
        "    else:\n",
        "        print(\"y is not greater than 15\")\n",
        "else:\n",
        "    print(\"x is not greater than 5\")"
      ]
    },
    {
      "cell_type": "markdown",
      "metadata": {
        "id": "LohFxFacjrgX"
      },
      "source": [
        "3.Membership Operators: What are membership operators in Python? Provide an example demonstrating their use"
      ]
    },
    {
      "cell_type": "code",
      "execution_count": 10,
      "metadata": {},
      "outputs": [
        {
          "name": "stdout",
          "output_type": "stream",
          "text": [
            "True\n",
            "True\n"
          ]
        }
      ],
      "source": [
        "#membership operators are two types\n",
        "#In\n",
        "my_list = [1, 2, 3, 4, 5]\n",
        "print(3 in my_list)\n",
        "#Not in\n",
        "my_list = [1, 2, 3, 4, 5]\n",
        "print(6 not in my_list) "
      ]
    },
    {
      "cell_type": "markdown",
      "metadata": {
        "id": "ugQUjDCdjwwC"
      },
      "source": [
        "4.Loops - for loop: How does a for loop work in Python? Provide an example of iterating through a list using a for loop."
      ]
    },
    {
      "cell_type": "code",
      "execution_count": 12,
      "metadata": {},
      "outputs": [
        {
          "name": "stdout",
          "output_type": "stream",
          "text": [
            "12\n",
            "24\n",
            "36\n",
            "48\n",
            "60\n"
          ]
        }
      ],
      "source": [
        "#in Python, a 'for' loop is used to iterate over a sequence  or any iterable object.\n",
        "# Define a list\n",
        "my_list = [12,24,36,48,60]\n",
        "\n",
        "# Iterate through the list using a for loop\n",
        "for item in my_list:\n",
        "    print(item)"
      ]
    },
    {
      "cell_type": "markdown",
      "metadata": {
        "id": "6hh6ZV1mjyo_"
      },
      "source": [
        "5.Control Flow - match-case statement: What is the match-case statement introduced in Python 3.10, and how does it differ from traditional switch statements?"
      ]
    },
    {
      "cell_type": "code",
      "execution_count": 19,
      "metadata": {},
      "outputs": [],
      "source": [
        "#It provides a more concise and expressive way to perform pattern matching in Python, similar to the 'switch' or 'match' statements found in other programming languages.\n",
        "def check_number(x):\n",
        "    match x:\n",
        "        case 0:\n",
        "            print(\"Zero\")\n",
        "        case 1:\n",
        "            print(\"One\")\n",
        "        case _:\n",
        "            print(\"Other\")\n"
      ]
    },
    {
      "cell_type": "markdown",
      "metadata": {
        "id": "aS918q8Ij5JH"
      },
      "source": [
        "6.Arithmetic Operators: Explain the purpose of arithmetic operators in Python and give examples of their use."
      ]
    },
    {
      "cell_type": "code",
      "execution_count": 20,
      "metadata": {},
      "outputs": [
        {
          "name": "stdout",
          "output_type": "stream",
          "text": [
            "Addition: 96\n",
            "Subtraction: 32\n",
            "Multiplication: 2048\n",
            "Division: 2.0\n"
          ]
        }
      ],
      "source": [
        "#Arithmetic operators in Python serve the purpose of performing mathematical operations on numeric operands\n",
        "#addition\n",
        "#subtraction\n",
        "#multiplication\n",
        "#division\n",
        "a = 64\n",
        "b = 32\n",
        "\n",
        "# Addition\n",
        "print(\"Addition:\", a + b)\n",
        "\n",
        "# Subtraction\n",
        "print(\"Subtraction:\", a - b)\n",
        "\n",
        "# Multiplication\n",
        "print(\"Multiplication:\", a * b)\n",
        "\n",
        "# Division\n",
        "print(\"Division:\", a / b)"
      ]
    },
    {
      "cell_type": "markdown",
      "metadata": {
        "id": "zPx-7matkfeR"
      },
      "source": [
        "7.Control Flow - Describe the use of if, elif, and else in Python's control flow and provide an example."
      ]
    },
    {
      "cell_type": "code",
      "execution_count": 21,
      "metadata": {},
      "outputs": [
        {
          "name": "stdout",
          "output_type": "stream",
          "text": [
            "x is greater than 25\n",
            "x is equal to 10\n",
            "x is less than 10\n"
          ]
        }
      ],
      "source": [
        "#if statement: It allows you to execute a block of code only if a specific condition is true. \n",
        "x = 50\n",
        "if x > 25:\n",
        "    print(\"x is greater than 25\")\n",
        "#   elif statement: It stands for \"else if\". It allows you to check multiple conditions sequentially. \n",
        "x = 10\n",
        "if x > 10:\n",
        "    print(\"x is greater than 10\")\n",
        "elif x == 10:\n",
        "    print(\"x is equal to 10\")\n",
        "# else statement: It is used to define a block of code that will execute when the 'if' and 'elif' conditions are false. \n",
        "x = 5\n",
        "if x > 10:\n",
        "    print(\"x is greater than 10\")\n",
        "elif x == 10:\n",
        "    print(\"x is equal to 10\")\n",
        "else:\n",
        "    print(\"x is less than 10\")  \n"
      ]
    },
    {
      "cell_type": "markdown",
      "metadata": {
        "id": "2yHXziD8q5qO"
      },
      "source": [
        "9.Variables: Describe the concept of variables in Python, including variable naming rules.Give Examples."
      ]
    },
    {
      "cell_type": "code",
      "execution_count": 24,
      "metadata": {},
      "outputs": [
        {
          "name": "stdout",
          "output_type": "stream",
          "text": [
            "Name: Alice\n",
            "Age: 25\n",
            "Total Marks: 95.5\n"
          ]
        }
      ],
      "source": [
        "#Variables are used in programming to store and manipulate data. They act as placeholders for values that can change during the execution of a program.\n",
        "#Variable Naming: Variables in Python must adhere to certain rules for naming:\n",
        "# Variable naming\n",
        "age = 25\n",
        "name = \"Alice\"\n",
        "total_marks = 95.5\n",
        "# Printing variables\n",
        "print(\"Name:\", name)\n",
        "print(\"Age:\", age)\n",
        "print(\"Total Marks:\", total_marks)"
      ]
    },
    {
      "cell_type": "markdown",
      "metadata": {
        "id": "022e4cZPrBJ3"
      },
      "source": [
        "10.Bitwise Operators: Explain bitwise operators (AND, XOR) in Python with examples."
      ]
    },
    {
      "cell_type": "code",
      "execution_count": 25,
      "metadata": {},
      "outputs": [
        {
          "name": "stdout",
          "output_type": "stream",
          "text": [
            "Bitwise AND result: 12\n",
            "Bitwise XOR result: 49\n"
          ]
        }
      ],
      "source": [
        "#Bitwise AND ('&'): The bitwise AND operator compares each bit position of two integers. If both corresponding bits are 1, the result bit is 1; otherwise, it's 0\n",
        "\n",
        "a = 60   # 60 = 0011 1100\n",
        "b = 13   # 13 = 0000 1101\n",
        "\n",
        "result = a & b\n",
        "print(\"Bitwise AND result:\", result) \n",
        "#Bitwise XOR ('^'): The bitwise XOR operator compares each bit position of two integers. If exactly one of the corresponding bits is 1, the result bit is 1; otherwise, it's 0.\n",
        "\n",
        "a = 60   # 60 = 0011 1100\n",
        "b = 13   # 13 = 0000 1101\n",
        "\n",
        "result = a ^ b\n",
        "print(\"Bitwise XOR result:\", result)"
      ]
    },
    {
      "cell_type": "markdown",
      "metadata": {
        "id": "ZhG7bZHfrGV-"
      },
      "source": [
        "11.Loop Control - What does the break statement do in Python loops? Give an example."
      ]
    },
    {
      "cell_type": "code",
      "execution_count": 27,
      "metadata": {},
      "outputs": [
        {
          "name": "stdout",
          "output_type": "stream",
          "text": [
            "10\n",
            "11\n",
            "12\n",
            "13\n",
            "14\n",
            "Loop ended.\n"
          ]
        }
      ],
      "source": [
        "#In Python, the 'break' statement is used to exit a loop prematurely.\n",
        "i = 10\n",
        "while i < 15:\n",
        "    print(i)\n",
        "    if i == 3:\n",
        "        break\n",
        "    i += 1\n",
        "\n",
        "print(\"Loop ended.\")"
      ]
    },
    {
      "cell_type": "markdown",
      "metadata": {
        "id": "HOSAHxf0rKsk"
      },
      "source": [
        "12.Assignment Operators: Describe the different types of assignment operators in Python and provide examples of their usage."
      ]
    },
    {
      "cell_type": "code",
      "execution_count": 30,
      "metadata": {},
      "outputs": [
        {
          "name": "stdout",
          "output_type": "stream",
          "text": [
            "3\n"
          ]
        }
      ],
      "source": [
        "#Simple Assignment (=)\n",
        "#Addition Assignment (+=)\n",
        "#Subtraction Assignment (-=)\n",
        "#Multiplication Assignment (*=)\n",
        "#Division Assignment (/=)\n",
        "#Floor Division Assignment (//=)\n",
        "#Modulus Assignment (%=)\n",
        "#Exponentiation Assignment (=)**\n",
        "x = 5\n",
        "x += 3  # Equivalent to x = x + 3\n",
        "x -= 5  # Equivalent to x = x - 5\n",
        "print(x)  "
      ]
    },
    {
      "cell_type": "markdown",
      "metadata": {
        "id": "5orrJ6VFrMZZ"
      },
      "source": [
        "13.String Methods: Name three string methods in Python and describe their uses."
      ]
    },
    {
      "cell_type": "code",
      "execution_count": null,
      "metadata": {},
      "outputs": [],
      "source": [
        "capitalize()  it converts the first character of the string to a capital letter\n",
        "center()      it pad the atring with the specified character\n",
        "count()       it returns the number of occurrences of a substring in the SyntaxWarning"
      ]
    },
    {
      "cell_type": "markdown",
      "metadata": {
        "id": "rcqvsYa_rWQ1"
      },
      "source": [
        "14.Loop Control - Describe the purpose of the continue statement in Python loops and provide an example of its use."
      ]
    },
    {
      "cell_type": "code",
      "execution_count": 31,
      "metadata": {},
      "outputs": [
        {
          "name": "stdout",
          "output_type": "stream",
          "text": [
            "2\n",
            "4\n",
            "6\n",
            "8\n",
            "10\n"
          ]
        }
      ],
      "source": [
        "#n Python, the 'continue' statement is used to skip the rest of the code inside a loop for the current iteration and proceed to the next iteration.\n",
        "numbers = [1, 2, 3, 4, 5, 6, 7, 8, 9, 10]\n",
        "for num in numbers:\n",
        "    if num % 2 != 0:  # If num is not even\n",
        "        continue       # Skip the rest of the loop body for this iteration\n",
        "    print(num)"
      ]
    },
    {
      "cell_type": "markdown",
      "metadata": {
        "id": "zzO_aJFZrb-p"
      },
      "source": [
        "15.Identity Operators: Describe identity operators in Python and explain when they are used."
      ]
    },
    {
      "cell_type": "code",
      "execution_count": null,
      "metadata": {},
      "outputs": [],
      "source": [
        "identity operators are used to compare the objects,not if they are equal,but if they are actually the same object , with the same memory location\n"
      ]
    }
  ],
  "metadata": {
    "colab": {
      "provenance": []
    },
    "kernelspec": {
      "display_name": "Python 3",
      "name": "python3"
    },
    "language_info": {
      "codemirror_mode": {
        "name": "ipython",
        "version": 3
      },
      "file_extension": ".py",
      "mimetype": "text/x-python",
      "name": "python",
      "nbconvert_exporter": "python",
      "pygments_lexer": "ipython3",
      "version": "3.12.2"
    }
  },
  "nbformat": 4,
  "nbformat_minor": 0
}
